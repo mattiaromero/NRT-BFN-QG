{
 "cells": [
  {
   "cell_type": "code",
   "execution_count": 15,
   "metadata": {},
   "outputs": [],
   "source": [
    "#!/usr/bin/env python3\n",
    "# -*- coding: utf-8 -*-\n",
    "\"\"\"\n",
    "Description: A script to produce high-resolution ocean topography maps using the BFN-QG data assimilation method (F. Le Guillou).\n",
    "This algorithm takes care of downloading the input observations, pre-processing the boundary conditions, plotting the data to be used,\n",
    "performing the assimilation using MASSH, processing results, making various diagnostics on the output, and sending the maps \n",
    "and results to an external FTP server. It can be used both for near-real-time and reanalysis applications.\n",
    "\n",
    "Author: adrienstella\n",
    "Date: 2023-07-19\n",
    "\"\"\"\n",
    "\n",
    "import os\n",
    "from datetime import timedelta\n",
    "import sys"
   ]
  },
  {
   "attachments": {},
   "cell_type": "markdown",
   "metadata": {},
   "source": [
    "### Parameters to adjust"
   ]
  },
  {
   "cell_type": "code",
   "execution_count": 16,
   "metadata": {},
   "outputs": [],
   "source": [
    "destination = None # Available options: 'ifremer'\n",
    "make_lagrangian_diags = False # True or False\n",
    "draw_L3 = False # True or False\n",
    "make_alongtrack_rmse = False # True or False\n",
    "make_duacs_comp = 'today' # Available options: 'today', 'YYYY-MM-DD' (choose a date), 'interactive', 'none'\n",
    "\n",
    "output_maps_interval = 6 # final averaging of ssh, in hours - default = 24\n",
    "\n",
    "dir_massh = '../MASSH/mapping'\n",
    "path_config = './NRT_BFN_main_config.py' "
   ]
  },
  {
   "attachments": {},
   "cell_type": "markdown",
   "metadata": {},
   "source": [
    "###  0. INITIALIZATION"
   ]
  },
  {
   "cell_type": "code",
   "execution_count": 17,
   "metadata": {},
   "outputs": [
    {
     "name": "stdout",
     "output_type": "stream",
     "text": [
      "name_experiment: NRT_BFN_GPGP_test\n",
      "saveoutputs: True\n",
      "name_exp_save: NRT_BFN_GPGP_test\n",
      "path_save: ./output_NRT_BFN_GPGP_test/20240214/\n",
      "tmp_DA_path: ./scratch/NRT_BFN_GPGP_test\n",
      "init_date: 2024-02-06 00:00:00\n",
      "final_date: 2024-02-14 00:00:00\n",
      "assimilation_time_step: 3:00:00\n",
      "saveoutput_time_step: 3:00:00\n",
      "flag_plot: 1\n",
      "write_obs: False\n",
      "path_obs: ./scratch/NRT_BFN_GPGP_test\n",
      "name_lon: lon\n",
      "name_lat: lat\n",
      "name_time: time\n",
      "plot_time_step: 1 day, 0:00:00\n",
      "time_obs_min: None\n",
      "time_obs_max: None\n",
      "compute_obs: False\n",
      "\n",
      "NAME_OBSOP is not set in the configuration file\n",
      "NAME_BASIS is not set in the configuration file\n",
      "NAME_DIAG is not set in the configuration file\n"
     ]
    },
    {
     "data": {
      "image/png": "[encoded data removed]",
      "text/plain": [
       "<Figure size 640x480 with 1 Axes>"
      ]
     },
     "metadata": {},
     "output_type": "display_data"
    }
   ],
   "source": [
    "sys.path.append(dir_massh)\n",
    "currdir=os.getcwd()\n",
    "\n",
    "from src import exp\n",
    "config = exp.Exp(path_config)\n",
    "name_experiment = config.EXP.name_experiment\n",
    "today = config.EXP.final_date\n",
    "numdays = int((today-config.EXP.init_date)/timedelta(days = 1))\n",
    "\n",
    "lon_min = config.GRID.lon_min                            \n",
    "lon_max = config.GRID.lon_max                               \n",
    "lat_min = config.GRID.lat_min                                 \n",
    "lat_max = config.GRID.lat_max\n",
    "bbox = [lon_min, lon_max, lat_min, lat_max]   \n",
    "\n",
    "from tools.plot_tools import where_is_this\n",
    "where_is_this(bbox, 20) "
   ]
  },
  {
   "attachments": {},
   "cell_type": "markdown",
   "metadata": {},
   "source": [
    "###  1. DATA DOWNLOAD"
   ]
  },
  {
   "cell_type": "code",
   "execution_count": 27,
   "metadata": {},
   "outputs": [
    {
     "ename": "ModuleNotFoundError",
     "evalue": "No module named 'pyinterp'",
     "output_type": "error",
     "traceback": [
      "\u001b[0;31m---------------------------------------------------------------------------\u001b[0m",
      "\u001b[0;31mModuleNotFoundError\u001b[0m                       Traceback (most recent call last)",
      "Cell \u001b[0;32mIn[27], line 2\u001b[0m\n\u001b[1;32m      1\u001b[0m \u001b[38;5;28;01mfrom\u001b[39;00m \u001b[38;5;21;01mtools\u001b[39;00m\u001b[38;5;21;01m.\u001b[39;00m\u001b[38;5;21;01mftp_transfer\u001b[39;00m \u001b[38;5;28;01mimport\u001b[39;00m download_nadirs_cmems, download_swot_nadir\n\u001b[0;32m----> 2\u001b[0m \u001b[38;5;28;01mfrom\u001b[39;00m \u001b[38;5;21;01mtools\u001b[39;00m\u001b[38;5;21;01m.\u001b[39;00m\u001b[38;5;21;01mprocessing\u001b[39;00m \u001b[38;5;28;01mimport\u001b[39;00m make_mdt\n\u001b[1;32m      4\u001b[0m \u001b[38;5;66;03m# What datasets to download\u001b[39;00m\n\u001b[1;32m      5\u001b[0m datasets \u001b[38;5;241m=\u001b[39m [\n\u001b[1;32m      6\u001b[0m     \u001b[38;5;124m'\u001b[39m\u001b[38;5;124mdataset-duacs-nrt-global-al-phy-l3\u001b[39m\u001b[38;5;124m'\u001b[39m, \n\u001b[1;32m      7\u001b[0m     \u001b[38;5;124m'\u001b[39m\u001b[38;5;124mdataset-duacs-nrt-global-c2n-phy-l3\u001b[39m\u001b[38;5;124m'\u001b[39m, \n\u001b[0;32m   (...)\u001b[0m\n\u001b[1;32m     12\u001b[0m     \u001b[38;5;124m'\u001b[39m\u001b[38;5;124mcmems_obs-sl_glo_phy-ssh_nrt_s6a-hr-l3-duacs_PT1S\u001b[39m\u001b[38;5;124m'\u001b[39m,\n\u001b[1;32m     13\u001b[0m ]\n",
      "File \u001b[0;32m~/Documents (local)/The Ocean Cleanup/Github/NRT-BFN-QG/./tools/processing.py:3\u001b[0m\n\u001b[1;32m      1\u001b[0m \u001b[38;5;28;01mimport\u001b[39;00m \u001b[38;5;21;01mxarray\u001b[39;00m \u001b[38;5;28;01mas\u001b[39;00m \u001b[38;5;21;01mxr\u001b[39;00m\n\u001b[1;32m      2\u001b[0m \u001b[38;5;28;01mimport\u001b[39;00m \u001b[38;5;21;01mnumpy\u001b[39;00m \u001b[38;5;28;01mas\u001b[39;00m \u001b[38;5;21;01mnp\u001b[39;00m\n\u001b[0;32m----> 3\u001b[0m \u001b[38;5;28;01mimport\u001b[39;00m \u001b[38;5;21;01mpyinterp\u001b[39;00m\u001b[38;5;21;01m.\u001b[39;00m\u001b[38;5;21;01mbackends\u001b[39;00m\u001b[38;5;21;01m.\u001b[39;00m\u001b[38;5;21;01mxarray\u001b[39;00m\n\u001b[1;32m      4\u001b[0m \u001b[38;5;28;01mimport\u001b[39;00m \u001b[38;5;21;01mpyinterp\u001b[39;00m\u001b[38;5;21;01m.\u001b[39;00m\u001b[38;5;21;01mfill\u001b[39;00m\n\u001b[1;32m      5\u001b[0m \u001b[38;5;28;01mfrom\u001b[39;00m \u001b[38;5;21;01mpandas\u001b[39;00m \u001b[38;5;28;01mimport\u001b[39;00m to_datetime\n",
      "\u001b[0;31mModuleNotFoundError\u001b[0m: No module named 'pyinterp'"
     ]
    }
   ],
   "source": [
    "from tools.ftp_transfer import download_nadirs_cmems, download_swot_nadir\n",
    "from tools.processing import make_mdt\n",
    "\n",
    "# What datasets to download\n",
    "datasets = [\n",
    "    'dataset-duacs-nrt-global-al-phy-l3', \n",
    "    'dataset-duacs-nrt-global-c2n-phy-l3', \n",
    "    'dataset-duacs-nrt-global-h2b-phy-l3',\n",
    "    'dataset-duacs-nrt-global-s3a-phy-l3',\n",
    "    'dataset-duacs-nrt-global-s3b-phy-l3',\n",
    "    'cmems_obs-sl_glo_phy-ssh_nrt_j3n-l3-duacs_PT1S',\n",
    "    'cmems_obs-sl_glo_phy-ssh_nrt_s6a-hr-l3-duacs_PT1S',\n",
    "]\n",
    "\n",
    "dataset_l4 = 'dataset-duacs-nrt-global-merged-allsat-phy-l4'\n",
    "\n",
    "# FTP connection to CMEMS server and observational data download\n",
    "download_nadirs_cmems(name_experiment, currdir, today, numdays, datasets, dataset_l4)\n",
    "download_swot_nadir(name_experiment, currdir, today)"
   ]
  },
  {
   "cell_type": "code",
   "execution_count": 25,
   "metadata": {},
   "outputs": [
    {
     "ename": "SyntaxError",
     "evalue": "invalid syntax (3627676956.py, line 1)",
     "output_type": "error",
     "traceback": [
      "\u001b[0;36m  Cell \u001b[0;32mIn[25], line 1\u001b[0;36m\u001b[0m\n\u001b[0;31m    help exp\u001b[0m\n\u001b[0m         ^\u001b[0m\n\u001b[0;31mSyntaxError\u001b[0m\u001b[0;31m:\u001b[0m invalid syntax\n"
     ]
    }
   ],
   "source": [
    "help exp"
   ]
  },
  {
   "cell_type": "code",
   "execution_count": null,
   "metadata": {},
   "outputs": [],
   "source": [
    "# If needed, download and properly formats mdt file\n",
    "make_mdt(name_experiment, currdir,bbox)"
   ]
  },
  {
   "attachments": {},
   "cell_type": "markdown",
   "metadata": {},
   "source": [
    "### 2. BOUNDARY CONDITIONS"
   ]
  },
  {
   "cell_type": "code",
   "execution_count": null,
   "metadata": {},
   "outputs": [],
   "source": [
    "from tools.processing import compute_filled_map\n",
    "\n",
    "# Rework DUACS dataset for optimal boundary conditions : extrapolate data to fill coasts. \n",
    "# Then a mask is used in MASSH to select only ocean and avoid awkward 0 values around coasts\n",
    "BC_data_path = currdir+'/input_'+name_experiment+'/'+today.strftime('%Y%m%d')+'/dataset-duacs-nrt-global-merged-allsat-phy-l4/*.nc'\n",
    "save_new_BC_to = currdir+'/input_'+name_experiment+'/'+today.strftime('%Y%m%d')+'/duacs_l4_filled.nc'\n",
    "\n",
    "compute_filled_map(BC_data_path, save_new_BC_to, bbox)"
   ]
  },
  {
   "attachments": {},
   "cell_type": "markdown",
   "metadata": {},
   "source": [
    "### 3. DATA ASSIMILATION WITH MASSH (BFN-QG)"
   ]
  },
  {
   "cell_type": "code",
   "execution_count": null,
   "metadata": {},
   "outputs": [],
   "source": [
    "# State\n",
    "from src import state as state\n",
    "State = state.State(config)\n",
    "\n",
    "# Obs\n",
    "from src import obs as obs # if no files to open, re-download data\n",
    "dict_obs = obs.Obs(config,State)"
   ]
  },
  {
   "cell_type": "code",
   "execution_count": null,
   "metadata": {},
   "outputs": [],
   "source": [
    "if draw_L3 == True:\n",
    "    from tools.plot_tools import plot_l3_data\n",
    "\n",
    "    #FIXME: This fails if one of the datasets asked for is empty. Check in inputs that all satellites here actually have data.\n",
    "    l3_datasets = [\n",
    "        'obs*ALG',\n",
    "        'obs*C2N',\n",
    "        'obs*H2B',\n",
    "        'obs*S3A',\n",
    "        'obs*S3B',\n",
    "        'obs*SWOTN',\n",
    "        'obs*'\n",
    "    ]\n",
    "    plot_l3_data(bbox, l3_datasets, today, numdays, name_experiment)"
   ]
  },
  {
   "cell_type": "code",
   "execution_count": null,
   "metadata": {},
   "outputs": [],
   "source": [
    "# Model\n",
    "from src import mod as mod\n",
    "Model = mod.Model(config,State)\n",
    "\n",
    "# Bondary Conditions\n",
    "from src import bc as bc\n",
    "Bc = bc.Bc(config)\n",
    "\n",
    "# Inversion\n",
    "from src import inv as inv\n",
    "inv.Inv(config,State,Model,dict_obs=dict_obs,Bc=Bc)"
   ]
  },
  {
   "attachments": {},
   "cell_type": "markdown",
   "metadata": {},
   "source": [
    "### 4. RESULTS PROCESSING"
   ]
  },
  {
   "cell_type": "code",
   "execution_count": null,
   "metadata": {},
   "outputs": [],
   "source": [
    "from tools.processing import nc_processing\n",
    "nc_processing(name_experiment, today=today, numdays=9, frequency_hours = output_maps_interval)"
   ]
  },
  {
   "attachments": {},
   "cell_type": "markdown",
   "metadata": {},
   "source": [
    "### 5. DIAGNOSTICS"
   ]
  },
  {
   "attachments": {},
   "cell_type": "markdown",
   "metadata": {},
   "source": [
    "#### 5.1 DUACS comparison"
   ]
  },
  {
   "cell_type": "code",
   "execution_count": null,
   "metadata": {},
   "outputs": [],
   "source": [
    "from tools.plot_tools import plot_duacs_comp\n",
    "plot_duacs_comp(config.EXP.init_date, name_experiment, today, bbox, make_duacs_comp)"
   ]
  },
  {
   "attachments": {},
   "cell_type": "markdown",
   "metadata": {},
   "source": [
    "#### 5.2 Alongtrack observations comparison"
   ]
  },
  {
   "cell_type": "code",
   "execution_count": null,
   "metadata": {},
   "outputs": [],
   "source": [
    "if make_alongtrack_rmse == True:\n",
    "    from tools.plot_tools import plot_alongtrack_rmse, plot_25_random_tracks\n",
    "    plot_25_random_tracks('./scratch/'+name_experiment+'/', name_experiment, today.strftime('%Y%m%d'))\n",
    "    plot_alongtrack_rmse('./scratch/'+name_experiment+'/', name_experiment, today.strftime('%Y%m%d'))"
   ]
  },
  {
   "attachments": {},
   "cell_type": "markdown",
   "metadata": {},
   "source": [
    "#### 5.3 LAMTA Lagrangian diagnostics"
   ]
  },
  {
   "cell_type": "code",
   "execution_count": null,
   "metadata": {},
   "outputs": [],
   "source": [
    "if make_lagrangian_diags == True:\n",
    "    dir_lamta = '/bettik/PROJECTS/pr-data-ocean/stellaa/lamtaLR'\n",
    "    from tools.processing import apply_lamta\n",
    "    lamta_diags_results = apply_lamta(name_experiment, currdir, dir_lamta, today, bbox, numdays=30, bathylvl =-3000)"
   ]
  },
  {
   "attachments": {},
   "cell_type": "markdown",
   "metadata": {},
   "source": [
    "### 6. MAPS UPLOAD"
   ]
  },
  {
   "cell_type": "code",
   "execution_count": null,
   "metadata": {},
   "outputs": [],
   "source": [
    "# Here, make your own functions to send to somewhere else for NRT purposes. \n",
    "if destination == 'ifremer':\n",
    "    from tools.ftp_transfer import ftp_to_ifremer\n",
    "    ftp_to_ifremer(name_experiment, today, currdir)"
   ]
  }
 ],
 "metadata": {
  "kernelspec": {
   "display_name": "pangeo-forge",
   "language": "python",
   "name": "python3"
  },
  "language_info": {
   "codemirror_mode": {
    "name": "ipython",
    "version": 3
   },
   "file_extension": ".py",
   "mimetype": "text/x-python",
   "name": "python",
   "nbconvert_exporter": "python",
   "pygments_lexer": "ipython3",
   "version": "3.10.8"
  },
  "orig_nbformat": 4,
  "vscode": {
   "interpreter": {
    "hash": "bc5f9e2c79e4e3a1f911fd58cd76649a3c690674397f164cff5fc3ad2dcc27c2"
   }
  }
 },
 "nbformat": 4,
 "nbformat_minor": 2
}
