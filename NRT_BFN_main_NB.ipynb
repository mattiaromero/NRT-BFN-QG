{
 "cells": [
  {
   "cell_type": "code",
   "execution_count": 1,
   "metadata": {},
   "outputs": [],
   "source": [
    "#!/usr/bin/env python3\n",
    "# -*- coding: utf-8 -*-\n",
    "\"\"\"\n",
    "Description: A script to produce high-resolution ocean topography maps using the BFN-QG data assimilation method (F. Le Guillou).\n",
    "This algorithm takes care of downloading the input observations, pre-processing the boundary ∏, plotting the data to be used,\n",
    "performing the assimilation using MASSH, processing results, making various diagnostics on the output, and sending the maps \n",
    "and results to an external FTP server. It can be used both for near-real-time and reanalysis applications.\n",
    "\n",
    "Author: adrienstella\n",
    "Date: 2023-07-19\n",
    "\"\"\"\n",
    "\n",
    "import os\n",
    "from datetime import timedelta\n",
    "import sys"
   ]
  },
  {
   "attachments": {},
   "cell_type": "markdown",
   "metadata": {},
   "source": [
    "### Parameters to adjust"
   ]
  },
  {
   "cell_type": "code",
   "execution_count": 2,
   "metadata": {},
   "outputs": [],
   "source": [
    "destination = None # Available options: 'ifremer'\n",
    "make_lagrangian_diags = False # True or False\n",
    "draw_L3 = False # True or False\n",
    "make_alongtrack_rmse = False # True or False\n",
    "make_duacs_comp = 'today' # Available options: 'today', 'YYYY-MM-DD' (choose a date), 'interactive', 'none'\n",
    "\n",
    "output_maps_interval = 6 # final averaging of ssh, in hours - default = 24\n",
    "\n",
    "dir_massh = '../MASSH/mapping'\n",
    "path_config = './NRT_BFN_main_config.py' "
   ]
  },
  {
   "attachments": {},
   "cell_type": "markdown",
   "metadata": {},
   "source": [
    "###  0. INITIALIZATION"
   ]
  },
  {
   "cell_type": "code",
   "execution_count": 3,
   "metadata": {},
   "outputs": [
    {
     "name": "stdout",
     "output_type": "stream",
     "text": [
      "name_experiment: NRT_BFN_GPGP_test\n",
      "saveoutputs: True\n",
      "name_exp_save: NRT_BFN_GPGP_test\n",
      "path_save: ./output_NRT_BFN_GPGP_test/20240219/\n",
      "tmp_DA_path: ./scratch/NRT_BFN_GPGP_test\n",
      "init_date: 2024-02-11 00:00:00\n",
      "final_date: 2024-02-19 00:00:00\n",
      "assimilation_time_step: 3:00:00\n",
      "saveoutput_time_step: 3:00:00\n",
      "flag_plot: 1\n",
      "write_obs: False\n",
      "path_obs: ./scratch/NRT_BFN_GPGP_test\n",
      "name_lon: lon\n",
      "name_lat: lat\n",
      "name_time: time\n",
      "plot_time_step: 1 day, 0:00:00\n",
      "time_obs_min: None\n",
      "time_obs_max: None\n",
      "compute_obs: False\n",
      "\n",
      "NAME_OBSOP is not set in the configuration file\n",
      "NAME_BASIS is not set in the configuration file\n",
      "NAME_DIAG is not set in the configuration file\n"
     ]
    },
    {
     "data": {
      "image/png": "[encoded data removed]",
      "text/plain": [
       "<Figure size 640x480 with 1 Axes>"
      ]
     },
     "metadata": {},
     "output_type": "display_data"
    }
   ],
   "source": [
    "sys.path.append(dir_massh)\n",
    "currdir=os.getcwd()\n",
    "\n",
    "from src import exp\n",
    "config = exp.Exp(path_config)\n",
    "name_experiment = config.EXP.name_experiment\n",
    "today = config.EXP.final_date\n",
    "numdays = int((today-config.EXP.init_date)/timedelta(days = 1))\n",
    "\n",
    "lon_min = config.GRID.lon_min                            \n",
    "lon_max = config.GRID.lon_max                               \n",
    "lat_min = config.GRID.lat_min                                 \n",
    "lat_max = config.GRID.lat_max\n",
    "bbox = [lon_min, lon_max, lat_min, lat_max]   \n",
    "\n",
    "from tools.plot_tools import where_is_this\n",
    "where_is_this(bbox, 20) "
   ]
  },
  {
   "attachments": {},
   "cell_type": "markdown",
   "metadata": {},
   "source": [
    "###  1. DATA DOWNLOAD"
   ]
  },
  {
   "cell_type": "code",
   "execution_count": 4,
   "metadata": {},
   "outputs": [
    {
     "name": "stdout",
     "output_type": "stream",
     "text": [
      "Retreiving data for nrt_global_al_phy_l3_20240201_20240219.nc\n",
      "Retreiving data for nrt_global_al_phy_l3_20240202_20240219.nc\n",
      "Retreiving data for nrt_global_al_phy_l3_20240203_20240219.nc\n",
      "Retreiving data for nrt_global_al_phy_l3_20240204_20240219.nc\n",
      "Retreiving data for nrt_global_al_phy_l3_20240205_20240219.nc\n",
      "Retreiving data for nrt_global_al_phy_l3_20240206_20240219.nc\n",
      "Retreiving data for nrt_global_al_phy_l3_20240207_20240219.nc\n",
      "Retreiving data for nrt_global_al_phy_l3_20240208_20240219.nc\n",
      "Retreiving data for nrt_global_al_phy_l3_20240209_20240219.nc\n",
      "Retreiving data for nrt_global_al_phy_l3_20240210_20240219.nc\n",
      "Retreiving data for nrt_global_al_phy_l3_20240211_20240219.nc\n",
      "Retreiving data for nrt_global_al_phy_l3_20240212_20240219.nc\n",
      "Retreiving data for nrt_global_al_phy_l3_20240213_20240219.nc\n",
      "Retreiving data for nrt_global_al_phy_l3_20240214_20240219.nc\n",
      "Retreiving data for nrt_global_al_phy_l3_20240215_20240219.nc\n",
      "Retreiving data for nrt_global_al_phy_l3_20240216_20240219.nc\n",
      "Retreiving data for nrt_global_al_phy_l3_20240217_20240219.nc\n",
      "Retreiving data for nrt_global_al_phy_l3_20240218_20240219.nc\n",
      "Retreiving data for nrt_global_al_phy_l3_20240219_20240219.nc\n",
      "Retreiving data for nrt_global_c2n_phy_l3_20240201_20240219.nc\n",
      "Retreiving data for nrt_global_c2n_phy_l3_20240202_20240219.nc\n",
      "Retreiving data for nrt_global_c2n_phy_l3_20240203_20240219.nc\n",
      "Retreiving data for nrt_global_c2n_phy_l3_20240204_20240219.nc\n",
      "Retreiving data for nrt_global_c2n_phy_l3_20240205_20240219.nc\n",
      "Retreiving data for nrt_global_c2n_phy_l3_20240206_20240219.nc\n",
      "Retreiving data for nrt_global_c2n_phy_l3_20240207_20240219.nc\n",
      "Retreiving data for nrt_global_c2n_phy_l3_20240208_20240219.nc\n",
      "Retreiving data for nrt_global_c2n_phy_l3_20240209_20240219.nc\n",
      "Retreiving data for nrt_global_c2n_phy_l3_20240210_20240219.nc\n",
      "Retreiving data for nrt_global_c2n_phy_l3_20240211_20240219.nc\n",
      "Retreiving data for nrt_global_c2n_phy_l3_20240212_20240219.nc\n",
      "Retreiving data for nrt_global_c2n_phy_l3_20240213_20240219.nc\n",
      "Retreiving data for nrt_global_c2n_phy_l3_20240214_20240219.nc\n",
      "Retreiving data for nrt_global_c2n_phy_l3_20240215_20240219.nc\n",
      "Retreiving data for nrt_global_c2n_phy_l3_20240216_20240219.nc\n",
      "Retreiving data for nrt_global_c2n_phy_l3_20240217_20240219.nc\n",
      "Retreiving data for nrt_global_c2n_phy_l3_20240218_20240219.nc\n",
      "Retreiving data for nrt_global_c2n_phy_l3_20240219_20240219.nc\n",
      "Retreiving data for nrt_global_h2b_phy_l3_20240201_20240219.nc\n",
      "Retreiving data for nrt_global_h2b_phy_l3_20240202_20240219.nc\n",
      "Retreiving data for nrt_global_h2b_phy_l3_20240203_20240219.nc\n",
      "Retreiving data for nrt_global_h2b_phy_l3_20240204_20240219.nc\n",
      "Retreiving data for nrt_global_h2b_phy_l3_20240205_20240219.nc\n",
      "Retreiving data for nrt_global_h2b_phy_l3_20240206_20240219.nc\n",
      "Retreiving data for nrt_global_h2b_phy_l3_20240207_20240219.nc\n",
      "Retreiving data for nrt_global_h2b_phy_l3_20240208_20240219.nc\n",
      "Retreiving data for nrt_global_h2b_phy_l3_20240209_20240219.nc\n",
      "Retreiving data for nrt_global_h2b_phy_l3_20240210_20240219.nc\n",
      "Retreiving data for nrt_global_h2b_phy_l3_20240211_20240219.nc\n",
      "Retreiving data for nrt_global_h2b_phy_l3_20240212_20240219.nc\n",
      "Retreiving data for nrt_global_h2b_phy_l3_20240213_20240219.nc\n",
      "Retreiving data for nrt_global_h2b_phy_l3_20240214_20240219.nc\n",
      "Retreiving data for nrt_global_h2b_phy_l3_20240215_20240219.nc\n",
      "Retreiving data for nrt_global_h2b_phy_l3_20240216_20240219.nc\n",
      "Retreiving data for nrt_global_h2b_phy_l3_20240217_20240219.nc\n",
      "Retreiving data for nrt_global_s3a_phy_l3_20240201_20240219.nc\n",
      "Retreiving data for nrt_global_s3a_phy_l3_20240202_20240219.nc\n",
      "Retreiving data for nrt_global_s3a_phy_l3_20240203_20240219.nc\n",
      "Retreiving data for nrt_global_s3a_phy_l3_20240204_20240219.nc\n",
      "Retreiving data for nrt_global_s3a_phy_l3_20240205_20240219.nc\n",
      "Retreiving data for nrt_global_s3a_phy_l3_20240206_20240219.nc\n",
      "Retreiving data for nrt_global_s3a_phy_l3_20240207_20240219.nc\n",
      "Retreiving data for nrt_global_s3a_phy_l3_20240208_20240219.nc\n",
      "Retreiving data for nrt_global_s3a_phy_l3_20240209_20240219.nc\n",
      "Retreiving data for nrt_global_s3a_phy_l3_20240210_20240219.nc\n",
      "Retreiving data for nrt_global_s3a_phy_l3_20240211_20240219.nc\n",
      "Retreiving data for nrt_global_s3a_phy_l3_20240212_20240219.nc\n",
      "Retreiving data for nrt_global_s3a_phy_l3_20240213_20240219.nc\n",
      "Retreiving data for nrt_global_s3a_phy_l3_20240214_20240219.nc\n",
      "Retreiving data for nrt_global_s3a_phy_l3_20240215_20240219.nc\n",
      "Retreiving data for nrt_global_s3a_phy_l3_20240216_20240219.nc\n",
      "Retreiving data for nrt_global_s3a_phy_l3_20240217_20240219.nc\n",
      "Retreiving data for nrt_global_s3a_phy_l3_20240218_20240219.nc\n",
      "Retreiving data for nrt_global_s3a_phy_l3_20240219_20240219.nc\n",
      "Retreiving data for nrt_global_s3b_phy_l3_20240201_20240219.nc\n",
      "Retreiving data for nrt_global_s3b_phy_l3_20240202_20240219.nc\n",
      "Retreiving data for nrt_global_s3b_phy_l3_20240203_20240219.nc\n",
      "Retreiving data for nrt_global_s3b_phy_l3_20240204_20240219.nc\n",
      "Retreiving data for nrt_global_s3b_phy_l3_20240205_20240219.nc\n",
      "Retreiving data for nrt_global_s3b_phy_l3_20240206_20240219.nc\n",
      "Retreiving data for nrt_global_s3b_phy_l3_20240207_20240219.nc\n",
      "Retreiving data for nrt_global_s3b_phy_l3_20240208_20240219.nc\n",
      "Retreiving data for nrt_global_s3b_phy_l3_20240209_20240219.nc\n",
      "Retreiving data for nrt_global_s3b_phy_l3_20240210_20240219.nc\n",
      "Retreiving data for nrt_global_s3b_phy_l3_20240211_20240219.nc\n",
      "Retreiving data for nrt_global_s3b_phy_l3_20240212_20240219.nc\n",
      "Retreiving data for nrt_global_s3b_phy_l3_20240213_20240219.nc\n",
      "Retreiving data for nrt_global_s3b_phy_l3_20240214_20240219.nc\n",
      "Retreiving data for nrt_global_s3b_phy_l3_20240215_20240219.nc\n",
      "Retreiving data for nrt_global_s3b_phy_l3_20240216_20240219.nc\n",
      "Retreiving data for nrt_global_s3b_phy_l3_20240217_20240219.nc\n",
      "Retreiving data for nrt_global_s3b_phy_l3_20240218_20240219.nc\n",
      "Retreiving data for nrt_global_s3b_phy_l3_20240219_20240219.nc\n",
      "Retreiving data for nrt_global_j3n_phy_l3_20240201_20240219.nc\n",
      "Retreiving data for nrt_global_j3n_phy_l3_20240202_20240219.nc\n",
      "Retreiving data for nrt_global_j3n_phy_l3_20240203_20240219.nc\n",
      "Retreiving data for nrt_global_j3n_phy_l3_20240204_20240219.nc\n",
      "Retreiving data for nrt_global_j3n_phy_l3_20240205_20240219.nc\n",
      "Retreiving data for nrt_global_j3n_phy_l3_20240206_20240219.nc\n",
      "Retreiving data for nrt_global_j3n_phy_l3_20240207_20240219.nc\n",
      "Retreiving data for nrt_global_j3n_phy_l3_20240208_20240219.nc\n",
      "Retreiving data for nrt_global_j3n_phy_l3_20240209_20240219.nc\n",
      "Retreiving data for nrt_global_j3n_phy_l3_20240210_20240219.nc\n",
      "Retreiving data for nrt_global_j3n_phy_l3_20240211_20240219.nc\n",
      "Retreiving data for nrt_global_j3n_phy_l3_20240212_20240219.nc\n",
      "Retreiving data for nrt_global_j3n_phy_l3_20240213_20240219.nc\n",
      "Retreiving data for nrt_global_j3n_phy_l3_20240214_20240219.nc\n",
      "Retreiving data for nrt_global_j3n_phy_l3_20240215_20240219.nc\n",
      "Retreiving data for nrt_global_j3n_phy_l3_20240216_20240219.nc\n",
      "Retreiving data for nrt_global_j3n_phy_l3_20240217_20240219.nc\n",
      "Retreiving data for nrt_global_j3n_phy_l3_20240218_20240219.nc\n",
      "Retreiving data for nrt_global_j3n_phy_l3_20240219_20240219.nc\n",
      "Retreiving data for nrt_global_s6a_hr_phy_l3_20240201_20240219.nc\n",
      "Retreiving data for nrt_global_s6a_hr_phy_l3_20240202_20240219.nc\n",
      "Retreiving data for nrt_global_s6a_hr_phy_l3_20240203_20240219.nc\n",
      "Retreiving data for nrt_global_s6a_hr_phy_l3_20240204_20240219.nc\n",
      "Retreiving data for nrt_global_s6a_hr_phy_l3_20240205_20240219.nc\n",
      "Retreiving data for nrt_global_s6a_hr_phy_l3_20240206_20240219.nc\n",
      "Retreiving data for nrt_global_s6a_hr_phy_l3_20240207_20240219.nc\n",
      "Retreiving data for nrt_global_s6a_hr_phy_l3_20240208_20240219.nc\n",
      "Retreiving data for nrt_global_s6a_hr_phy_l3_20240209_20240219.nc\n",
      "Retreiving data for nrt_global_s6a_hr_phy_l3_20240210_20240219.nc\n",
      "Retreiving data for nrt_global_s6a_hr_phy_l3_20240211_20240219.nc\n",
      "Retreiving data for nrt_global_s6a_hr_phy_l3_20240212_20240219.nc\n",
      "Retreiving data for nrt_global_s6a_hr_phy_l3_20240213_20240219.nc\n",
      "Retreiving data for nrt_global_s6a_hr_phy_l3_20240214_20240219.nc\n",
      "Retreiving data for nrt_global_s6a_hr_phy_l3_20240215_20240219.nc\n",
      "Retreiving data for nrt_global_s6a_hr_phy_l3_20240216_20240219.nc\n",
      "Retreiving data for nrt_global_s6a_hr_phy_l3_20240217_20240219.nc\n",
      "Retreiving data for nrt_global_s6a_hr_phy_l3_20240218_20240219.nc\n",
      "Retreiving data for nrt_global_s6a_hr_phy_l3_20240219_20240219.nc\n",
      "Obs data downloaded successfully\n",
      "Retreiving data for dataset dataset-duacs-nrt-global-merged-allsat-phy-l4\n",
      "Retreiving data for nrt_global_allsat_phy_l4_20240201_20240207.nc\n",
      "Retreiving data for nrt_global_allsat_phy_l4_20240202_20240208.nc\n",
      "Retreiving data for nrt_global_allsat_phy_l4_20240203_20240209.nc\n",
      "Retreiving data for nrt_global_allsat_phy_l4_20240204_20240210.nc\n",
      "Retreiving data for nrt_global_allsat_phy_l4_20240205_20240211.nc\n",
      "Retreiving data for nrt_global_allsat_phy_l4_20240206_20240212.nc\n",
      "Retreiving data for nrt_global_allsat_phy_l4_20240207_20240213.nc\n",
      "Retreiving data for nrt_global_allsat_phy_l4_20240208_20240214.nc\n",
      "Retreiving data for nrt_global_allsat_phy_l4_20240209_20240215.nc\n",
      "Retreiving data for nrt_global_allsat_phy_l4_20240210_20240216.nc\n",
      "Retreiving data for nrt_global_allsat_phy_l4_20240211_20240217.nc\n",
      "Retreiving data for nrt_global_allsat_phy_l4_20240212_20240218.nc\n",
      "Retreiving data for nrt_global_allsat_phy_l4_20240213_20240219.nc\n",
      "Retreiving data for nrt_global_allsat_phy_l4_20240214_20240217.nc\n",
      "Retreiving data for nrt_global_allsat_phy_l4_20240215_20240218.nc\n",
      "Retreiving data for nrt_global_allsat_phy_l4_20240216_20240219.nc\n",
      "Retreiving data for nrt_global_allsat_phy_l4_20240217_20240217.nc\n",
      "Retreiving data for nrt_global_allsat_phy_l4_20240218_20240218.nc\n",
      "Retreiving data for nrt_global_allsat_phy_l4_20240219_20240219.nc\n",
      "DUACS L4 data downloaded successfully\n"
     ]
    },
    {
     "ename": "error_perm",
     "evalue": "550 /data/Data/ALTI/DUACS_SWOT_Nadir/L3_Along_track: No such file or directory",
     "output_type": "error",
     "traceback": [
      "\u001b[0;31m---------------------------------------------------------------------------\u001b[0m",
      "\u001b[0;31merror_perm\u001b[0m                                Traceback (most recent call last)",
      "Cell \u001b[0;32mIn[4], line 19\u001b[0m\n\u001b[1;32m     17\u001b[0m \u001b[38;5;66;03m# FTP connection to CMEMS server and observational data download\u001b[39;00m\n\u001b[1;32m     18\u001b[0m download_nadirs_cmems(name_experiment, currdir, today, numdays, datasets, dataset_l4)\n\u001b[0;32m---> 19\u001b[0m \u001b[43mdownload_swot_nadir\u001b[49m\u001b[43m(\u001b[49m\u001b[43mname_experiment\u001b[49m\u001b[43m,\u001b[49m\u001b[43m \u001b[49m\u001b[43mcurrdir\u001b[49m\u001b[43m,\u001b[49m\u001b[43m \u001b[49m\u001b[43mtoday\u001b[49m\u001b[43m)\u001b[49m\n",
      "File \u001b[0;32m~/Projects/Github/NRT-BFN-QG/./tools/ftp_transfer.py:285\u001b[0m, in \u001b[0;36mdownload_swot_nadir\u001b[0;34m(name_experiment, currdir, today)\u001b[0m\n\u001b[1;32m    283\u001b[0m \u001b[38;5;66;03m# Connect to the ftp server\u001b[39;00m\n\u001b[1;32m    284\u001b[0m ftp \u001b[38;5;241m=\u001b[39m FTP(\u001b[38;5;124m'\u001b[39m\u001b[38;5;124mftp-access.aviso.altimetry.fr\u001b[39m\u001b[38;5;124m'\u001b[39m,username,password)\n\u001b[0;32m--> 285\u001b[0m \u001b[43mftp\u001b[49m\u001b[38;5;241;43m.\u001b[39;49m\u001b[43mcwd\u001b[49m\u001b[43m(\u001b[49m\u001b[38;5;124;43m'\u001b[39;49m\u001b[38;5;124;43m/data/Data/ALTI/DUACS_SWOT_Nadir/L3_Along_track\u001b[39;49m\u001b[38;5;124;43m'\u001b[39;49m\u001b[43m)\u001b[49m\n\u001b[1;32m    286\u001b[0m filenames \u001b[38;5;241m=\u001b[39m ftp\u001b[38;5;241m.\u001b[39mnlst()\n\u001b[1;32m    288\u001b[0m \u001b[38;5;66;03m# Download SWOT nadir product\u001b[39;00m\n",
      "File \u001b[0;32m/opt/miniconda3/envs/nrt-bfn-qg/lib/python3.10/ftplib.py:625\u001b[0m, in \u001b[0;36mFTP.cwd\u001b[0;34m(self, dirname)\u001b[0m\n\u001b[1;32m    623\u001b[0m     dirname \u001b[38;5;241m=\u001b[39m \u001b[38;5;124m'\u001b[39m\u001b[38;5;124m.\u001b[39m\u001b[38;5;124m'\u001b[39m  \u001b[38;5;66;03m# does nothing, but could return error\u001b[39;00m\n\u001b[1;32m    624\u001b[0m cmd \u001b[38;5;241m=\u001b[39m \u001b[38;5;124m'\u001b[39m\u001b[38;5;124mCWD \u001b[39m\u001b[38;5;124m'\u001b[39m \u001b[38;5;241m+\u001b[39m dirname\n\u001b[0;32m--> 625\u001b[0m \u001b[38;5;28;01mreturn\u001b[39;00m \u001b[38;5;28;43mself\u001b[39;49m\u001b[38;5;241;43m.\u001b[39;49m\u001b[43mvoidcmd\u001b[49m\u001b[43m(\u001b[49m\u001b[43mcmd\u001b[49m\u001b[43m)\u001b[49m\n",
      "File \u001b[0;32m/opt/miniconda3/envs/nrt-bfn-qg/lib/python3.10/ftplib.py:286\u001b[0m, in \u001b[0;36mFTP.voidcmd\u001b[0;34m(self, cmd)\u001b[0m\n\u001b[1;32m    284\u001b[0m \u001b[38;5;124;03m\"\"\"Send a command and expect a response beginning with '2'.\"\"\"\u001b[39;00m\n\u001b[1;32m    285\u001b[0m \u001b[38;5;28mself\u001b[39m\u001b[38;5;241m.\u001b[39mputcmd(cmd)\n\u001b[0;32m--> 286\u001b[0m \u001b[38;5;28;01mreturn\u001b[39;00m \u001b[38;5;28;43mself\u001b[39;49m\u001b[38;5;241;43m.\u001b[39;49m\u001b[43mvoidresp\u001b[49m\u001b[43m(\u001b[49m\u001b[43m)\u001b[49m\n",
      "File \u001b[0;32m/opt/miniconda3/envs/nrt-bfn-qg/lib/python3.10/ftplib.py:259\u001b[0m, in \u001b[0;36mFTP.voidresp\u001b[0;34m(self)\u001b[0m\n\u001b[1;32m    257\u001b[0m \u001b[38;5;28;01mdef\u001b[39;00m \u001b[38;5;21mvoidresp\u001b[39m(\u001b[38;5;28mself\u001b[39m):\n\u001b[1;32m    258\u001b[0m     \u001b[38;5;124;03m\"\"\"Expect a response beginning with '2'.\"\"\"\u001b[39;00m\n\u001b[0;32m--> 259\u001b[0m     resp \u001b[38;5;241m=\u001b[39m \u001b[38;5;28;43mself\u001b[39;49m\u001b[38;5;241;43m.\u001b[39;49m\u001b[43mgetresp\u001b[49m\u001b[43m(\u001b[49m\u001b[43m)\u001b[49m\n\u001b[1;32m    260\u001b[0m     \u001b[38;5;28;01mif\u001b[39;00m resp[:\u001b[38;5;241m1\u001b[39m] \u001b[38;5;241m!=\u001b[39m \u001b[38;5;124m'\u001b[39m\u001b[38;5;124m2\u001b[39m\u001b[38;5;124m'\u001b[39m:\n\u001b[1;32m    261\u001b[0m         \u001b[38;5;28;01mraise\u001b[39;00m error_reply(resp)\n",
      "File \u001b[0;32m/opt/miniconda3/envs/nrt-bfn-qg/lib/python3.10/ftplib.py:254\u001b[0m, in \u001b[0;36mFTP.getresp\u001b[0;34m(self)\u001b[0m\n\u001b[1;32m    252\u001b[0m     \u001b[38;5;28;01mraise\u001b[39;00m error_temp(resp)\n\u001b[1;32m    253\u001b[0m \u001b[38;5;28;01mif\u001b[39;00m c \u001b[38;5;241m==\u001b[39m \u001b[38;5;124m'\u001b[39m\u001b[38;5;124m5\u001b[39m\u001b[38;5;124m'\u001b[39m:\n\u001b[0;32m--> 254\u001b[0m     \u001b[38;5;28;01mraise\u001b[39;00m error_perm(resp)\n\u001b[1;32m    255\u001b[0m \u001b[38;5;28;01mraise\u001b[39;00m error_proto(resp)\n",
      "\u001b[0;31merror_perm\u001b[0m: 550 /data/Data/ALTI/DUACS_SWOT_Nadir/L3_Along_track: No such file or directory"
     ]
    }
   ],
   "source": [
    "from tools.ftp_transfer import download_nadirs_cmems, download_swot_nadir\n",
    "from tools.processing import make_mdt\n",
    "\n",
    "# What datasets to download\n",
    "datasets = [\n",
    "    'dataset-duacs-nrt-global-al-phy-l3', \n",
    "    'dataset-duacs-nrt-global-c2n-phy-l3', \n",
    "    'dataset-duacs-nrt-global-h2b-phy-l3',\n",
    "    'dataset-duacs-nrt-global-s3a-phy-l3',\n",
    "    'dataset-duacs-nrt-global-s3b-phy-l3',\n",
    "    'cmems_obs-sl_glo_phy-ssh_nrt_j3n-l3-duacs_PT1S',\n",
    "    'cmems_obs-sl_glo_phy-ssh_nrt_s6a-hr-l3-duacs_PT1S',\n",
    "]\n",
    "\n",
    "dataset_l4 = 'dataset-duacs-nrt-global-merged-allsat-phy-l4'\n",
    "\n",
    "# FTP connection to CMEMS server and observational data download\n",
    "download_nadirs_cmems(name_experiment, currdir, today, numdays, datasets, dataset_l4)\n",
    "download_swot_nadir(name_experiment, currdir, today)"
   ]
  },
  {
   "cell_type": "code",
   "execution_count": 10,
   "metadata": {},
   "outputs": [
    {
     "ename": "NameError",
     "evalue": "name 'secretcodes' is not defined",
     "output_type": "error",
     "traceback": [
      "\u001b[0;31m---------------------------------------------------------------------------\u001b[0m",
      "\u001b[0;31mNameError\u001b[0m                                 Traceback (most recent call last)",
      "Cell \u001b[0;32mIn[10], line 2\u001b[0m\n\u001b[1;32m      1\u001b[0m \u001b[38;5;66;03m# If needed, download and properly formats mdt file\u001b[39;00m\n\u001b[0;32m----> 2\u001b[0m \u001b[43mmake_mdt\u001b[49m\u001b[43m(\u001b[49m\u001b[43mname_experiment\u001b[49m\u001b[43m,\u001b[49m\u001b[43m \u001b[49m\u001b[43mcurrdir\u001b[49m\u001b[43m,\u001b[49m\u001b[43mbbox\u001b[49m\u001b[43m)\u001b[49m\n",
      "File \u001b[0;32m~/Projects/Github/NRT-BFN-QG/./tools/processing.py:30\u001b[0m, in \u001b[0;36mmake_mdt\u001b[0;34m(name_experiment, currdir, bbox, dataset_mdt)\u001b[0m\n\u001b[1;32m     28\u001b[0m \u001b[38;5;28;01mif\u001b[39;00m(\u001b[38;5;129;01mnot\u001b[39;00m(os\u001b[38;5;241m.\u001b[39mpath\u001b[38;5;241m.\u001b[39misfile(currdir\u001b[38;5;241m+\u001b[39m\u001b[38;5;124m'\u001b[39m\u001b[38;5;124m/input_\u001b[39m\u001b[38;5;124m'\u001b[39m\u001b[38;5;241m+\u001b[39mname_experiment\u001b[38;5;241m+\u001b[39m\u001b[38;5;124m'\u001b[39m\u001b[38;5;124m/cnes_mdt_local.nc\u001b[39m\u001b[38;5;124m'\u001b[39m))):\n\u001b[1;32m     29\u001b[0m     \u001b[38;5;28;01mfrom\u001b[39;00m \u001b[38;5;21;01mtools\u001b[39;00m\u001b[38;5;21;01m.\u001b[39;00m\u001b[38;5;21;01mftp_transfer\u001b[39;00m \u001b[38;5;28;01mimport\u001b[39;00m download_mdt\n\u001b[0;32m---> 30\u001b[0m     \u001b[43mdownload_mdt\u001b[49m\u001b[43m(\u001b[49m\u001b[43mname_experiment\u001b[49m\u001b[43m,\u001b[49m\u001b[43m \u001b[49m\u001b[43mcurrdir\u001b[49m\u001b[43m,\u001b[49m\u001b[43m \u001b[49m\u001b[43mdataset_mdt\u001b[49m\u001b[43m)\u001b[49m\n\u001b[1;32m     31\u001b[0m     ds \u001b[38;5;241m=\u001b[39m xr\u001b[38;5;241m.\u001b[39mopen_dataset(currdir\u001b[38;5;241m+\u001b[39m\u001b[38;5;124m'\u001b[39m\u001b[38;5;124m/input_\u001b[39m\u001b[38;5;124m'\u001b[39m\u001b[38;5;241m+\u001b[39mname_experiment\u001b[38;5;241m+\u001b[39m\u001b[38;5;124m'\u001b[39m\u001b[38;5;124m/\u001b[39m\u001b[38;5;124m'\u001b[39m\u001b[38;5;241m+\u001b[39mdataset_mdt)\n\u001b[1;32m     32\u001b[0m     ds \u001b[38;5;241m=\u001b[39m ds\u001b[38;5;241m.\u001b[39msel(longitude \u001b[38;5;241m=\u001b[39m \u001b[38;5;28mslice\u001b[39m(bbox[\u001b[38;5;241m0\u001b[39m],bbox[\u001b[38;5;241m1\u001b[39m]), latitude \u001b[38;5;241m=\u001b[39m \u001b[38;5;28mslice\u001b[39m(bbox[\u001b[38;5;241m2\u001b[39m],bbox[\u001b[38;5;241m3\u001b[39m]))\n",
      "File \u001b[0;32m~/Projects/Github/NRT-BFN-QG/./tools/ftp_transfer.py:236\u001b[0m, in \u001b[0;36mdownload_mdt\u001b[0;34m(name_experiment, currdir, dataset_mdt)\u001b[0m\n\u001b[1;32m    216\u001b[0m \u001b[38;5;124;03m\"\"\"\u001b[39;00m\n\u001b[1;32m    217\u001b[0m \u001b[38;5;124;03mDownloads Mean Dynamic Topography (MDT) data from the CMEMS FTP server for a specific experiment.\u001b[39;00m\n\u001b[1;32m    218\u001b[0m \n\u001b[0;32m   (...)\u001b[0m\n\u001b[1;32m    232\u001b[0m \u001b[38;5;124;03m      with the appropriate FTP credentials.\u001b[39;00m\n\u001b[1;32m    233\u001b[0m \u001b[38;5;124;03m\"\"\"\u001b[39;00m\n\u001b[1;32m    235\u001b[0m \u001b[38;5;66;03m# Set user name and password\u001b[39;00m\n\u001b[0;32m--> 236\u001b[0m username \u001b[38;5;241m=\u001b[39m \u001b[43msecretcodes\u001b[49m\u001b[38;5;241m.\u001b[39mcmems_username\n\u001b[1;32m    237\u001b[0m password \u001b[38;5;241m=\u001b[39m secretcodes\u001b[38;5;241m.\u001b[39mcmems_password\n\u001b[1;32m    239\u001b[0m \u001b[38;5;66;03m# Connect to the ftp server\u001b[39;00m\n",
      "\u001b[0;31mNameError\u001b[0m: name 'secretcodes' is not defined"
     ]
    }
   ],
   "source": [
    "# If needed, download and properly formats mdt file\n",
    "make_mdt(name_experiment, currdir,bbox)"
   ]
  },
  {
   "attachments": {},
   "cell_type": "markdown",
   "metadata": {},
   "source": [
    "### 2. BOUNDARY CONDITIONS"
   ]
  },
  {
   "cell_type": "code",
   "execution_count": null,
   "metadata": {},
   "outputs": [],
   "source": [
    "from tools.processing import compute_filled_map\n",
    "\n",
    "# Rework DUACS dataset for optimal boundary conditions : extrapolate data to fill coasts. \n",
    "# Then a mask is used in MASSH to select only ocean and avoid awkward 0 values around coasts\n",
    "BC_data_path = currdir+'/input_'+name_experiment+'/'+today.strftime('%Y%m%d')+'/dataset-duacs-nrt-global-merged-allsat-phy-l4/*.nc'\n",
    "save_new_BC_to = currdir+'/input_'+name_experiment+'/'+today.strftime('%Y%m%d')+'/duacs_l4_filled.nc'\n",
    "\n",
    "compute_filled_map(BC_data_path, save_new_BC_to, bbox)"
   ]
  },
  {
   "attachments": {},
   "cell_type": "markdown",
   "metadata": {},
   "source": [
    "### 3. DATA ASSIMILATION WITH MASSH (BFN-QG)"
   ]
  },
  {
   "cell_type": "code",
   "execution_count": null,
   "metadata": {},
   "outputs": [],
   "source": [
    "# State\n",
    "from src import state as state\n",
    "State = state.State(config)\n",
    "\n",
    "# Obs\n",
    "from src import obs as obs # if no files to open, re-download data\n",
    "dict_obs = obs.Obs(config,State)"
   ]
  },
  {
   "cell_type": "code",
   "execution_count": null,
   "metadata": {},
   "outputs": [],
   "source": [
    "if draw_L3 == True:\n",
    "    from tools.plot_tools import plot_l3_data\n",
    "\n",
    "    #FIXME: This fails if one of the datasets asked for is empty. Check in inputs that all satellites here actually have data.\n",
    "    l3_datasets = [\n",
    "        'obs*ALG',\n",
    "        'obs*C2N',\n",
    "        'obs*H2B',\n",
    "        'obs*S3A',\n",
    "        'obs*S3B',\n",
    "        'obs*SWOTN',\n",
    "        'obs*'\n",
    "    ]\n",
    "    plot_l3_data(bbox, l3_datasets, today, numdays, name_experiment)"
   ]
  },
  {
   "cell_type": "code",
   "execution_count": null,
   "metadata": {},
   "outputs": [],
   "source": [
    "# Model\n",
    "from src import mod as mod\n",
    "Model = mod.Model(config,State)\n",
    "\n",
    "# Bondary Conditions\n",
    "from src import bc as bc\n",
    "Bc = bc.Bc(config)\n",
    "\n",
    "# Inversion\n",
    "from src import inv as inv\n",
    "inv.Inv(config,State,Model,dict_obs=dict_obs,Bc=Bc)"
   ]
  },
  {
   "attachments": {},
   "cell_type": "markdown",
   "metadata": {},
   "source": [
    "### 4. RESULTS PROCESSING"
   ]
  },
  {
   "cell_type": "code",
   "execution_count": null,
   "metadata": {},
   "outputs": [],
   "source": [
    "from tools.processing import nc_processing\n",
    "nc_processing(name_experiment, today=today, numdays=9, frequency_hours = output_maps_interval)"
   ]
  },
  {
   "attachments": {},
   "cell_type": "markdown",
   "metadata": {},
   "source": [
    "### 5. DIAGNOSTICS"
   ]
  },
  {
   "attachments": {},
   "cell_type": "markdown",
   "metadata": {},
   "source": [
    "#### 5.1 DUACS comparison"
   ]
  },
  {
   "cell_type": "code",
   "execution_count": null,
   "metadata": {},
   "outputs": [],
   "source": [
    "from tools.plot_tools import plot_duacs_comp\n",
    "plot_duacs_comp(config.EXP.init_date, name_experiment, today, bbox, make_duacs_comp)"
   ]
  },
  {
   "attachments": {},
   "cell_type": "markdown",
   "metadata": {},
   "source": [
    "#### 5.2 Alongtrack observations comparison"
   ]
  },
  {
   "cell_type": "code",
   "execution_count": null,
   "metadata": {},
   "outputs": [],
   "source": [
    "if make_alongtrack_rmse == True:\n",
    "    from tools.plot_tools import plot_alongtrack_rmse, plot_25_random_tracks\n",
    "    plot_25_random_tracks('./scratch/'+name_experiment+'/', name_experiment, today.strftime('%Y%m%d'))\n",
    "    plot_alongtrack_rmse('./scratch/'+name_experiment+'/', name_experiment, today.strftime('%Y%m%d'))"
   ]
  },
  {
   "attachments": {},
   "cell_type": "markdown",
   "metadata": {},
   "source": [
    "#### 5.3 LAMTA Lagrangian diagnostics"
   ]
  },
  {
   "cell_type": "code",
   "execution_count": null,
   "metadata": {},
   "outputs": [],
   "source": [
    "if make_lagrangian_diags == True:\n",
    "    dir_lamta = '/bettik/PROJECTS/pr-data-ocean/stellaa/lamtaLR'\n",
    "    from tools.processing import apply_lamta\n",
    "    lamta_diags_results = apply_lamta(name_experiment, currdir, dir_lamta, today, bbox, numdays=30, bathylvl =-3000)"
   ]
  },
  {
   "attachments": {},
   "cell_type": "markdown",
   "metadata": {},
   "source": [
    "### 6. MAPS UPLOAD"
   ]
  },
  {
   "cell_type": "code",
   "execution_count": null,
   "metadata": {},
   "outputs": [],
   "source": [
    "# Here, make your own functions to send to somewhere else for NRT purposes. \n",
    "if destination == 'ifremer':\n",
    "    from tools.ftp_transfer import ftp_to_ifremer\n",
    "    ftp_to_ifremer(name_experiment, today, currdir)"
   ]
  }
 ],
 "metadata": {
  "kernelspec": {
   "display_name": "pangeo-forge",
   "language": "python",
   "name": "python3"
  },
  "language_info": {
   "codemirror_mode": {
    "name": "ipython",
    "version": 3
   },
   "file_extension": ".py",
   "mimetype": "text/x-python",
   "name": "python",
   "nbconvert_exporter": "python",
   "pygments_lexer": "ipython3",
   "version": "3.1.0"
  },
  "orig_nbformat": 4,
  "vscode": {
   "interpreter": {
    "hash": "bc5f9e2c79e4e3a1f911fd58cd76649a3c690674397f164cff5fc3ad2dcc27c2"
   }
  }
 },
 "nbformat": 4,
 "nbformat_minor": 2
}
